{
 "cells": [
  {
   "cell_type": "markdown",
   "metadata": {},
   "source": [
    "# Tasks\n",
    "- removed `none` of the columns\n",
    "\n",
    "- Balance the dataset to directly by using `SmoteTomek` by keeping the ratio 1 for majority and minority class.\n",
    "\n",
    "- Split the dataset `70-30` ratio\n",
    "- Null values for both train and test have been replaced with `mean` of train.\n",
    "- Highest accuracy:\n",
    "    - no scaling *for both X_train and x_test*\n",
    "        - `('LightGBM', 0.8737459905821333)`\n",
    "    - *both Xtrain and x_test scaled*\n",
    "        - StandardScaler `('LightGBM', 0.8753156350235447)`\n",
    "        - MinMaxScaler `('LightGBM', 0.8738824814031256)`"
   ]
  },
  {
   "cell_type": "markdown",
   "metadata": {},
   "source": [
    "# Import Libraries"
   ]
  },
  {
   "cell_type": "code",
   "execution_count": 51,
   "metadata": {},
   "outputs": [],
   "source": [
    "import pandas as pd\n",
    "import my_packages as mypckg\n",
    "import matplotlib.pyplot as plt\n",
    "import seaborn as sns\n",
    "from collections import Counter\n",
    "\n",
    "%matplotlib inline"
   ]
  },
  {
   "cell_type": "markdown",
   "metadata": {},
   "source": [
    "# Dataset"
   ]
  },
  {
   "cell_type": "code",
   "execution_count": 52,
   "metadata": {},
   "outputs": [],
   "source": [
    "df = pd.read_csv('../data/adult.csv', na_values=\"?\", skipinitialspace=True)"
   ]
  },
  {
   "cell_type": "markdown",
   "metadata": {},
   "source": [
    "## Categorical Data Encoding"
   ]
  },
  {
   "cell_type": "code",
   "execution_count": 53,
   "metadata": {},
   "outputs": [],
   "source": [
    "# encode the dataset\n",
    "df , mappings = mypckg.encoder(df)"
   ]
  },
  {
   "cell_type": "code",
   "execution_count": 54,
   "metadata": {},
   "outputs": [
    {
     "name": "stdout",
     "output_type": "stream",
     "text": [
      "{\n",
      "    \"workclass\": {\n",
      "        \"Private\": 0,\n",
      "        \"Local-gov\": 1,\n",
      "        \"Self-emp-not-inc\": 2,\n",
      "        \"Federal-gov\": 3,\n",
      "        \"State-gov\": 4,\n",
      "        \"Self-emp-inc\": 5,\n",
      "        \"Without-pay\": 6,\n",
      "        \"Never-worked\": 7\n",
      "    },\n",
      "    \"education\": {\n",
      "        \"11th\": 0,\n",
      "        \"HS-grad\": 1,\n",
      "        \"Assoc-acdm\": 2,\n",
      "        \"Some-college\": 3,\n",
      "        \"10th\": 4,\n",
      "        \"Prof-school\": 5,\n",
      "        \"7th-8th\": 6,\n",
      "        \"Bachelors\": 7,\n",
      "        \"Masters\": 8,\n",
      "        \"Doctorate\": 9,\n",
      "        \"5th-6th\": 10,\n",
      "        \"Assoc-voc\": 11,\n",
      "        \"9th\": 12,\n",
      "        \"12th\": 13,\n",
      "        \"1st-4th\": 14,\n",
      "        \"Preschool\": 15\n",
      "    },\n",
      "    \"marital-status\": {\n",
      "        \"Never-married\": 0,\n",
      "        \"Married-civ-spouse\": 1,\n",
      "        \"Widowed\": 2,\n",
      "        \"Divorced\": 3,\n",
      "        \"Separated\": 4,\n",
      "        \"Married-spouse-absent\": 5,\n",
      "        \"Married-AF-spouse\": 6\n",
      "    },\n",
      "    \"occupation\": {\n",
      "        \"Machine-op-inspct\": 0,\n",
      "        \"Farming-fishing\": 1,\n",
      "        \"Protective-serv\": 2,\n",
      "        \"Other-service\": 3,\n",
      "        \"Prof-specialty\": 4,\n",
      "        \"Craft-repair\": 5,\n",
      "        \"Adm-clerical\": 6,\n",
      "        \"Exec-managerial\": 7,\n",
      "        \"Tech-support\": 8,\n",
      "        \"Sales\": 9,\n",
      "        \"Priv-house-serv\": 10,\n",
      "        \"Transport-moving\": 11,\n",
      "        \"Handlers-cleaners\": 12,\n",
      "        \"Armed-Forces\": 13\n",
      "    },\n",
      "    \"relationship\": {\n",
      "        \"Own-child\": 0,\n",
      "        \"Husband\": 1,\n",
      "        \"Not-in-family\": 2,\n",
      "        \"Unmarried\": 3,\n",
      "        \"Wife\": 4,\n",
      "        \"Other-relative\": 5\n",
      "    },\n",
      "    \"race\": {\n",
      "        \"Black\": 0,\n",
      "        \"White\": 1,\n",
      "        \"Asian-Pac-Islander\": 2,\n",
      "        \"Other\": 3,\n",
      "        \"Amer-Indian-Eskimo\": 4\n",
      "    },\n",
      "    \"gender\": {\n",
      "        \"Male\": 0,\n",
      "        \"Female\": 1\n",
      "    },\n",
      "    \"native-country\": {\n",
      "        \"United-States\": 0,\n",
      "        \"Peru\": 1,\n",
      "        \"Guatemala\": 2,\n",
      "        \"Mexico\": 3,\n",
      "        \"Dominican-Republic\": 4,\n",
      "        \"Ireland\": 5,\n",
      "        \"Germany\": 6,\n",
      "        \"Philippines\": 7,\n",
      "        \"Thailand\": 8,\n",
      "        \"Haiti\": 9,\n",
      "        \"El-Salvador\": 10,\n",
      "        \"Puerto-Rico\": 11,\n",
      "        \"Vietnam\": 12,\n",
      "        \"South\": 13,\n",
      "        \"Columbia\": 14,\n",
      "        \"Japan\": 15,\n",
      "        \"India\": 16,\n",
      "        \"Cambodia\": 17,\n",
      "        \"Poland\": 18,\n",
      "        \"Laos\": 19,\n",
      "        \"England\": 20,\n",
      "        \"Cuba\": 21,\n",
      "        \"Taiwan\": 22,\n",
      "        \"Italy\": 23,\n",
      "        \"Canada\": 24,\n",
      "        \"Portugal\": 25,\n",
      "        \"China\": 26,\n",
      "        \"Nicaragua\": 27,\n",
      "        \"Honduras\": 28,\n",
      "        \"Iran\": 29,\n",
      "        \"Scotland\": 30,\n",
      "        \"Jamaica\": 31,\n",
      "        \"Ecuador\": 32,\n",
      "        \"Yugoslavia\": 33,\n",
      "        \"Hungary\": 34,\n",
      "        \"Hong\": 35,\n",
      "        \"Greece\": 36,\n",
      "        \"Trinadad&Tobago\": 37,\n",
      "        \"Outlying-US(Guam-USVI-etc)\": 38,\n",
      "        \"France\": 39,\n",
      "        \"Holand-Netherlands\": 40\n",
      "    },\n",
      "    \"income\": {\n",
      "        \"<=50K\": 0,\n",
      "        \">50K\": 1\n",
      "    }\n",
      "}\n"
     ]
    }
   ],
   "source": [
    "mypckg.show(mappings)"
   ]
  },
  {
   "cell_type": "markdown",
   "metadata": {},
   "source": [
    "## Feature and Target Separation"
   ]
  },
  {
   "cell_type": "code",
   "execution_count": 55,
   "metadata": {},
   "outputs": [],
   "source": [
    "X = df.drop(['income'], axis=1)\n",
    "y = df['income']"
   ]
  },
  {
   "cell_type": "code",
   "execution_count": 56,
   "metadata": {},
   "outputs": [
    {
     "name": "stdout",
     "output_type": "stream",
     "text": [
      "       age  workclass  fnlwgt  education  educational-num  marital-status  \\\n",
      "0       25        0.0  226802          0                7               0   \n",
      "1       38        0.0   89814          1                9               1   \n",
      "2       28        1.0  336951          2               12               1   \n",
      "3       44        0.0  160323          3               10               1   \n",
      "4       18        NaN  103497          3               10               0   \n",
      "...    ...        ...     ...        ...              ...             ...   \n",
      "48837   27        0.0  257302          2               12               1   \n",
      "48838   40        0.0  154374          1                9               1   \n",
      "48839   58        0.0  151910          1                9               2   \n",
      "48840   22        0.0  201490          1                9               0   \n",
      "48841   52        5.0  287927          1                9               1   \n",
      "\n",
      "       occupation  relationship  race  gender  capital-gain  capital-loss  \\\n",
      "0             0.0             0     0       0             0             0   \n",
      "1             1.0             1     1       0             0             0   \n",
      "2             2.0             1     1       0             0             0   \n",
      "3             0.0             1     0       0          7688             0   \n",
      "4             NaN             0     1       1             0             0   \n",
      "...           ...           ...   ...     ...           ...           ...   \n",
      "48837         8.0             4     1       1             0             0   \n",
      "48838         0.0             1     1       0             0             0   \n",
      "48839         6.0             3     1       1             0             0   \n",
      "48840         6.0             0     1       0             0             0   \n",
      "48841         7.0             4     1       1         15024             0   \n",
      "\n",
      "       hours-per-week  native-country  \n",
      "0                  40             0.0  \n",
      "1                  50             0.0  \n",
      "2                  40             0.0  \n",
      "3                  40             0.0  \n",
      "4                  30             0.0  \n",
      "...               ...             ...  \n",
      "48837              38             0.0  \n",
      "48838              40             0.0  \n",
      "48839              40             0.0  \n",
      "48840              20             0.0  \n",
      "48841              40             0.0  \n",
      "\n",
      "[48842 rows x 14 columns]\n"
     ]
    }
   ],
   "source": [
    "print(X)"
   ]
  },
  {
   "cell_type": "code",
   "execution_count": 57,
   "metadata": {},
   "outputs": [
    {
     "name": "stdout",
     "output_type": "stream",
     "text": [
      "0        0\n",
      "1        0\n",
      "2        1\n",
      "3        1\n",
      "4        0\n",
      "        ..\n",
      "48837    0\n",
      "48838    1\n",
      "48839    0\n",
      "48840    0\n",
      "48841    1\n",
      "Name: income, Length: 48842, dtype: int64\n"
     ]
    }
   ],
   "source": [
    "print(y)"
   ]
  },
  {
   "cell_type": "markdown",
   "metadata": {},
   "source": [
    "## Splitting"
   ]
  },
  {
   "cell_type": "code",
   "execution_count": 58,
   "metadata": {},
   "outputs": [
    {
     "name": "stdout",
     "output_type": "stream",
     "text": [
      "(34189, 14)\n",
      "(34189,)\n",
      "(14653, 14)\n",
      "(14653,)\n"
     ]
    }
   ],
   "source": [
    "from sklearn.model_selection import train_test_split\n",
    "X_train, X_test, y_train, y_test = train_test_split(X, y, test_size=0.3, random_state=42)\n",
    "print(X_train.shape, y_train.shape, X_test.shape, y_test.shape, sep='\\n')"
   ]
  },
  {
   "cell_type": "markdown",
   "metadata": {},
   "source": [
    "## Finding and Removing Null Values"
   ]
  },
  {
   "cell_type": "code",
   "execution_count": 59,
   "metadata": {},
   "outputs": [
    {
     "name": "stdout",
     "output_type": "stream",
     "text": [
      "age                   0\n",
      "workclass          1969\n",
      "fnlwgt                0\n",
      "education             0\n",
      "educational-num       0\n",
      "marital-status        0\n",
      "occupation         1977\n",
      "relationship          0\n",
      "race                  0\n",
      "gender                0\n",
      "capital-gain          0\n",
      "capital-loss          0\n",
      "hours-per-week        0\n",
      "native-country      585\n",
      "dtype: int64\n"
     ]
    }
   ],
   "source": [
    "print(X_train.isnull().sum())"
   ]
  },
  {
   "cell_type": "code",
   "execution_count": 60,
   "metadata": {},
   "outputs": [
    {
     "name": "stdout",
     "output_type": "stream",
     "text": [
      "age                  0\n",
      "workclass          830\n",
      "fnlwgt               0\n",
      "education            0\n",
      "educational-num      0\n",
      "marital-status       0\n",
      "occupation         832\n",
      "relationship         0\n",
      "race                 0\n",
      "gender               0\n",
      "capital-gain         0\n",
      "capital-loss         0\n",
      "hours-per-week       0\n",
      "native-country     272\n",
      "dtype: int64\n"
     ]
    }
   ],
   "source": [
    "print(X_test.isnull().sum())"
   ]
  },
  {
   "cell_type": "code",
   "execution_count": 61,
   "metadata": {},
   "outputs": [
    {
     "name": "stdout",
     "output_type": "stream",
     "text": [
      "age                0\n",
      "workclass          0\n",
      "fnlwgt             0\n",
      "education          0\n",
      "educational-num    0\n",
      "marital-status     0\n",
      "occupation         0\n",
      "relationship       0\n",
      "race               0\n",
      "gender             0\n",
      "capital-gain       0\n",
      "capital-loss       0\n",
      "hours-per-week     0\n",
      "native-country     0\n",
      "dtype: int64\n"
     ]
    }
   ],
   "source": [
    "X_train.fillna(X_train.mean(),inplace=True)\n",
    "print(X_train.isnull().sum())"
   ]
  },
  {
   "cell_type": "code",
   "execution_count": 62,
   "metadata": {},
   "outputs": [
    {
     "name": "stdout",
     "output_type": "stream",
     "text": [
      "age                0\n",
      "workclass          0\n",
      "fnlwgt             0\n",
      "education          0\n",
      "educational-num    0\n",
      "marital-status     0\n",
      "occupation         0\n",
      "relationship       0\n",
      "race               0\n",
      "gender             0\n",
      "capital-gain       0\n",
      "capital-loss       0\n",
      "hours-per-week     0\n",
      "native-country     0\n",
      "dtype: int64\n"
     ]
    }
   ],
   "source": [
    "X_test.fillna(X_train.mean(), inplace=True)\n",
    "print(X_test.isnull().sum())"
   ]
  },
  {
   "cell_type": "markdown",
   "metadata": {},
   "source": [
    "## Allign the y_train and y_test according to the indecies of X_train and X_test"
   ]
  },
  {
   "cell_type": "code",
   "execution_count": 63,
   "metadata": {},
   "outputs": [],
   "source": [
    "y_train = y_train.loc[X_train.index]\n",
    "y_test= y_test.loc[X_test.index]"
   ]
  },
  {
   "cell_type": "markdown",
   "metadata": {},
   "source": [
    "## Balance the Dataset"
   ]
  },
  {
   "cell_type": "code",
   "execution_count": 64,
   "metadata": {},
   "outputs": [
    {
     "data": {
      "text/plain": [
       "count    34189.000000\n",
       "mean         0.241803\n",
       "std          0.428182\n",
       "min          0.000000\n",
       "25%          0.000000\n",
       "50%          0.000000\n",
       "75%          0.000000\n",
       "max          1.000000\n",
       "Name: income, dtype: float64"
      ]
     },
     "execution_count": 64,
     "metadata": {},
     "output_type": "execute_result"
    }
   ],
   "source": [
    "y_train.describe()"
   ]
  },
  {
   "cell_type": "code",
   "execution_count": 65,
   "metadata": {},
   "outputs": [
    {
     "data": {
      "text/plain": [
       "(34189,)"
      ]
     },
     "execution_count": 65,
     "metadata": {},
     "output_type": "execute_result"
    }
   ],
   "source": [
    "y_train.shape"
   ]
  },
  {
   "cell_type": "code",
   "execution_count": 66,
   "metadata": {},
   "outputs": [
    {
     "name": "stdout",
     "output_type": "stream",
     "text": [
      "<class 'pandas.core.series.Series'>\n",
      "Index: 34189 entries, 42392 to 15795\n",
      "Series name: income\n",
      "Non-Null Count  Dtype\n",
      "--------------  -----\n",
      "34189 non-null  int64\n",
      "dtypes: int64(1)\n",
      "memory usage: 534.2 KB\n"
     ]
    }
   ],
   "source": [
    "y_train.info()"
   ]
  },
  {
   "cell_type": "code",
   "execution_count": 67,
   "metadata": {},
   "outputs": [
    {
     "data": {
      "image/png": "[encoded data removed]",
      "text/plain": [
       "<Figure size 1200x600 with 1 Axes>"
      ]
     },
     "metadata": {},
     "output_type": "display_data"
    }
   ],
   "source": [
    "plt.figure(figsize=(12,6))\n",
    "sns.countplot(x=y_train)\n",
    "plt.show()"
   ]
  },
  {
   "cell_type": "code",
   "execution_count": 68,
   "metadata": {},
   "outputs": [
    {
     "data": {
      "text/plain": [
       "income\n",
       "0    25922\n",
       "1     8267\n",
       "Name: count, dtype: int64"
      ]
     },
     "execution_count": 68,
     "metadata": {},
     "output_type": "execute_result"
    }
   ],
   "source": [
    "y_train.value_counts()"
   ]
  },
  {
   "cell_type": "code",
   "execution_count": 69,
   "metadata": {},
   "outputs": [
    {
     "name": "stdout",
     "output_type": "stream",
     "text": [
      "Y after resampling: Counter({0: 23681, 1: 23681})\n"
     ]
    }
   ],
   "source": [
    "from imblearn.combine import SMOTETomek\n",
    "\n",
    "smote_tomek = SMOTETomek(sampling_strategy=1, random_state=42)\n",
    "X_train, y_train = smote_tomek.fit_resample(X_train, y_train)\n",
    "\n",
    "print(f\"Y after resampling: {Counter(y_train)}\")"
   ]
  },
  {
   "cell_type": "code",
   "execution_count": 70,
   "metadata": {},
   "outputs": [
    {
     "data": {
      "image/png": "[encoded data removed]",
      "text/plain": [
       "<Figure size 1200x600 with 1 Axes>"
      ]
     },
     "metadata": {},
     "output_type": "display_data"
    }
   ],
   "source": [
    "plt.figure(figsize=(12,6))\n",
    "sns.countplot(x=y_train)\n",
    "plt.show()"
   ]
  },
  {
   "cell_type": "markdown",
   "metadata": {},
   "source": [
    "## Scaling"
   ]
  },
  {
   "cell_type": "code",
   "execution_count": 71,
   "metadata": {},
   "outputs": [],
   "source": [
    "from sklearn.preprocessing import StandardScaler\n",
    "ss = StandardScaler()\n",
    "ss.fit(X_train)\n",
    "X_scaled_ss_train = ss.transform(X_train)\n",
    "X_scaled_ss_test = ss.transform(X_test)"
   ]
  },
  {
   "cell_type": "code",
   "execution_count": 72,
   "metadata": {},
   "outputs": [],
   "source": [
    "from sklearn.preprocessing import MinMaxScaler\n",
    "mm = MinMaxScaler()\n",
    "mm.fit(X_train)\n",
    "X_scaled_mm_train = mm.fit_transform(X_train)\n",
    "X_scaled_mm_test = mm.fit_transform(X_test)"
   ]
  },
  {
   "cell_type": "markdown",
   "metadata": {},
   "source": [
    "# Apply Models"
   ]
  },
  {
   "cell_type": "code",
   "execution_count": 73,
   "metadata": {},
   "outputs": [
    {
     "data": {
      "text/plain": [
       "{'Logistic Regression': LogisticRegression(max_iter=1000),\n",
       " 'Decision Tree': DecisionTreeClassifier(),\n",
       " 'Random Forest': RandomForestClassifier(),\n",
       " 'Support Vector Classifier': SVC(),\n",
       " 'Naive Bayes': GaussianNB(),\n",
       " 'Gradient Boosting': GradientBoostingClassifier(),\n",
       " 'AdaBoost': AdaBoostClassifier(),\n",
       " 'LightGBM': LGBMClassifier(),\n",
       " 'XGBoost': XGBClassifier(base_score=None, booster=None, callbacks=None,\n",
       "               colsample_bylevel=None, colsample_bynode=None,\n",
       "               colsample_bytree=None, device=None, early_stopping_rounds=None,\n",
       "               enable_categorical=False, eval_metric='logloss',\n",
       "               feature_types=None, gamma=None, grow_policy=None,\n",
       "               importance_type=None, interaction_constraints=None,\n",
       "               learning_rate=None, max_bin=None, max_cat_threshold=None,\n",
       "               max_cat_to_onehot=None, max_delta_step=None, max_depth=None,\n",
       "               max_leaves=None, min_child_weight=None, missing=nan,\n",
       "               monotone_constraints=None, multi_strategy=None, n_estimators=None,\n",
       "               n_jobs=None, num_parallel_tree=None, random_state=None, ...),\n",
       " 'KNeighbors': KNeighborsClassifier(),\n",
       " 'Bagging': BaggingClassifier()}"
      ]
     },
     "execution_count": 73,
     "metadata": {},
     "output_type": "execute_result"
    }
   ],
   "source": [
    "models = mypckg.get_models()\n",
    "models"
   ]
  },
  {
   "cell_type": "code",
   "execution_count": 74,
   "metadata": {},
   "outputs": [
    {
     "name": "stderr",
     "output_type": "stream",
     "text": [
      "e:\\codes\\data-analysis\\adult-income-prediction\\env-adult-income-prediction\\Lib\\site-packages\\sklearn\\linear_model\\_logistic.py:469: ConvergenceWarning: lbfgs failed to converge (status=1):\n",
      "STOP: TOTAL NO. of ITERATIONS REACHED LIMIT.\n",
      "\n",
      "Increase the number of iterations (max_iter) or scale the data as shown in:\n",
      "    https://scikit-learn.org/stable/modules/preprocessing.html\n",
      "Please also refer to the documentation for alternative solver options:\n",
      "    https://scikit-learn.org/stable/modules/linear_model.html#logistic-regression\n",
      "  n_iter_i = _check_optimize_result(\n"
     ]
    },
    {
     "name": "stdout",
     "output_type": "stream",
     "text": [
      "Model: Logistic Regression\n",
      "Accuracy: 0.6868900566436907\n",
      "Classification Report:\n",
      "              precision    recall  f1-score   support\n",
      "\n",
      "           0       0.87      0.69      0.77     11233\n",
      "           1       0.40      0.67      0.50      3420\n",
      "\n",
      "    accuracy                           0.69     14653\n",
      "   macro avg       0.64      0.68      0.64     14653\n",
      "weighted avg       0.76      0.69      0.71     14653\n",
      "\n",
      "Confusion Matrix:\n",
      "[[7780 3453]\n",
      " [1135 2285]]\n",
      "--------------------------------------------------------------------------------\n",
      "Accuracy for Logistic Regression: 0.6868900566436907\n",
      "\n",
      "\n",
      "Model: Decision Tree\n",
      "Accuracy: 0.8093223230737733\n",
      "Classification Report:\n",
      "              precision    recall  f1-score   support\n",
      "\n",
      "           0       0.89      0.86      0.87     11233\n",
      "           1       0.58      0.64      0.61      3420\n",
      "\n",
      "    accuracy                           0.81     14653\n",
      "   macro avg       0.74      0.75      0.74     14653\n",
      "weighted avg       0.82      0.81      0.81     14653\n",
      "\n",
      "Confusion Matrix:\n",
      "[[9668 1565]\n",
      " [1229 2191]]\n",
      "--------------------------------------------------------------------------------\n",
      "Accuracy for Decision Tree: 0.8093223230737733\n",
      "\n",
      "\n",
      "Model: Random Forest\n",
      "Accuracy: 0.853681839896267\n",
      "Classification Report:\n",
      "              precision    recall  f1-score   support\n",
      "\n",
      "           0       0.91      0.90      0.90     11233\n",
      "           1       0.69      0.69      0.69      3420\n",
      "\n",
      "    accuracy                           0.85     14653\n",
      "   macro avg       0.80      0.80      0.80     14653\n",
      "weighted avg       0.85      0.85      0.85     14653\n",
      "\n",
      "Confusion Matrix:\n",
      "[[10154  1079]\n",
      " [ 1065  2355]]\n",
      "--------------------------------------------------------------------------------\n",
      "Accuracy for Random Forest: 0.853681839896267\n",
      "\n",
      "\n",
      "Model: Support Vector Classifier\n",
      "Accuracy: 0.8018153279191974\n",
      "Classification Report:\n",
      "              precision    recall  f1-score   support\n",
      "\n",
      "           0       0.80      0.98      0.88     11233\n",
      "           1       0.78      0.21      0.33      3420\n",
      "\n",
      "    accuracy                           0.80     14653\n",
      "   macro avg       0.79      0.60      0.61     14653\n",
      "weighted avg       0.80      0.80      0.75     14653\n",
      "\n",
      "Confusion Matrix:\n",
      "[[11037   196]\n",
      " [ 2708   712]]\n",
      "--------------------------------------------------------------------------------\n",
      "Accuracy for Support Vector Classifier: 0.8018153279191974\n",
      "\n",
      "\n",
      "Model: Naive Bayes\n",
      "Accuracy: 0.7971746400054597\n",
      "Classification Report:\n",
      "              precision    recall  f1-score   support\n",
      "\n",
      "           0       0.82      0.94      0.88     11233\n",
      "           1       0.63      0.31      0.42      3420\n",
      "\n",
      "    accuracy                           0.80     14653\n",
      "   macro avg       0.73      0.63      0.65     14653\n",
      "weighted avg       0.78      0.80      0.77     14653\n",
      "\n",
      "Confusion Matrix:\n",
      "[[10611   622]\n",
      " [ 2350  1070]]\n",
      "--------------------------------------------------------------------------------\n",
      "Accuracy for Naive Bayes: 0.7971746400054597\n",
      "\n",
      "\n",
      "Model: Gradient Boosting\n",
      "Accuracy: 0.8515662321708866\n",
      "Classification Report:\n",
      "              precision    recall  f1-score   support\n",
      "\n",
      "           0       0.91      0.89      0.90     11233\n",
      "           1       0.67      0.73      0.70      3420\n",
      "\n",
      "    accuracy                           0.85     14653\n",
      "   macro avg       0.79      0.81      0.80     14653\n",
      "weighted avg       0.86      0.85      0.85     14653\n",
      "\n",
      "Confusion Matrix:\n",
      "[[9998 1235]\n",
      " [ 940 2480]]\n",
      "--------------------------------------------------------------------------------\n",
      "Accuracy for Gradient Boosting: 0.8515662321708866\n",
      "\n",
      "\n"
     ]
    },
    {
     "name": "stderr",
     "output_type": "stream",
     "text": [
      "e:\\codes\\data-analysis\\adult-income-prediction\\env-adult-income-prediction\\Lib\\site-packages\\sklearn\\ensemble\\_weight_boosting.py:519: FutureWarning: The SAMME.R algorithm (the default) is deprecated and will be removed in 1.6. Use the SAMME algorithm to circumvent this warning.\n",
      "  warnings.warn(\n"
     ]
    },
    {
     "name": "stdout",
     "output_type": "stream",
     "text": [
      "Model: AdaBoost\n",
      "Accuracy: 0.8302054186855934\n",
      "Classification Report:\n",
      "              precision    recall  f1-score   support\n",
      "\n",
      "           0       0.92      0.85      0.88     11233\n",
      "           1       0.61      0.76      0.68      3420\n",
      "\n",
      "    accuracy                           0.83     14653\n",
      "   macro avg       0.77      0.81      0.78     14653\n",
      "weighted avg       0.85      0.83      0.84     14653\n",
      "\n",
      "Confusion Matrix:\n",
      "[[9562 1671]\n",
      " [ 817 2603]]\n",
      "--------------------------------------------------------------------------------\n",
      "Accuracy for AdaBoost: 0.8302054186855934\n",
      "\n",
      "\n",
      "[LightGBM] [Info] Number of positive: 23681, number of negative: 23681\n",
      "[LightGBM] [Info] Auto-choosing row-wise multi-threading, the overhead of testing was 0.001045 seconds.\n",
      "You can set `force_row_wise=true` to remove the overhead.\n",
      "And if memory is not enough, you can set `force_col_wise=true`.\n",
      "[LightGBM] [Info] Total Bins 1748\n",
      "[LightGBM] [Info] Number of data points in the train set: 47362, number of used features: 14\n",
      "[LightGBM] [Info] [binary:BoostFromScore]: pavg=0.500000 -> initscore=0.000000\n",
      "Model: LightGBM\n",
      "Accuracy: 0.8737459905821333\n",
      "Classification Report:\n",
      "              precision    recall  f1-score   support\n",
      "\n",
      "           0       0.91      0.93      0.92     11233\n",
      "           1       0.75      0.69      0.72      3420\n",
      "\n",
      "    accuracy                           0.87     14653\n",
      "   macro avg       0.83      0.81      0.82     14653\n",
      "weighted avg       0.87      0.87      0.87     14653\n",
      "\n",
      "Confusion Matrix:\n",
      "[[10434   799]\n",
      " [ 1051  2369]]\n",
      "--------------------------------------------------------------------------------\n",
      "Accuracy for LightGBM: 0.8737459905821333\n",
      "\n",
      "\n",
      "Model: XGBoost\n",
      "Accuracy: 0.8732000272981641\n",
      "Classification Report:\n",
      "              precision    recall  f1-score   support\n",
      "\n",
      "           0       0.91      0.93      0.92     11233\n",
      "           1       0.74      0.70      0.72      3420\n",
      "\n",
      "    accuracy                           0.87     14653\n",
      "   macro avg       0.83      0.81      0.82     14653\n",
      "weighted avg       0.87      0.87      0.87     14653\n",
      "\n",
      "Confusion Matrix:\n",
      "[[10404   829]\n",
      " [ 1029  2391]]\n",
      "--------------------------------------------------------------------------------\n",
      "Accuracy for XGBoost: 0.8732000272981641\n",
      "\n",
      "\n",
      "Model: KNeighbors\n",
      "Accuracy: 0.6570668122568757\n",
      "Classification Report:\n",
      "              precision    recall  f1-score   support\n",
      "\n",
      "           0       0.84      0.68      0.75     11233\n",
      "           1       0.36      0.58      0.44      3420\n",
      "\n",
      "    accuracy                           0.66     14653\n",
      "   macro avg       0.60      0.63      0.60     14653\n",
      "weighted avg       0.73      0.66      0.68     14653\n",
      "\n",
      "Confusion Matrix:\n",
      "[[7649 3584]\n",
      " [1441 1979]]\n",
      "--------------------------------------------------------------------------------\n",
      "Accuracy for KNeighbors: 0.6570668122568757\n",
      "\n",
      "\n",
      "Model: Bagging\n",
      "Accuracy: 0.8451511635842489\n",
      "Classification Report:\n",
      "              precision    recall  f1-score   support\n",
      "\n",
      "           0       0.89      0.91      0.90     11233\n",
      "           1       0.68      0.63      0.66      3420\n",
      "\n",
      "    accuracy                           0.85     14653\n",
      "   macro avg       0.79      0.77      0.78     14653\n",
      "weighted avg       0.84      0.85      0.84     14653\n",
      "\n",
      "Confusion Matrix:\n",
      "[[10221  1012]\n",
      " [ 1257  2163]]\n",
      "--------------------------------------------------------------------------------\n",
      "Accuracy for Bagging: 0.8451511635842489\n",
      "\n",
      "\n",
      "All the accuracies:\n",
      "****************************************************************************************************\n",
      "****************************************************************************************************\n",
      "{\n",
      "    \"Logistic Regression\": 0.6868900566436907,\n",
      "    \"Decision Tree\": 0.8093223230737733,\n",
      "    \"Random Forest\": 0.853681839896267,\n",
      "    \"Support Vector Classifier\": 0.8018153279191974,\n",
      "    \"Naive Bayes\": 0.7971746400054597,\n",
      "    \"Gradient Boosting\": 0.8515662321708866,\n",
      "    \"AdaBoost\": 0.8302054186855934,\n",
      "    \"LightGBM\": 0.8737459905821333,\n",
      "    \"XGBoost\": 0.8732000272981641,\n",
      "    \"KNeighbors\": 0.6570668122568757,\n",
      "    \"Bagging\": 0.8451511635842489\n",
      "}\n"
     ]
    }
   ],
   "source": [
    "accuracies = mypckg.run_the_models(models, X_train, y_train, X_test, y_test)"
   ]
  },
  {
   "cell_type": "markdown",
   "metadata": {},
   "source": [
    "## Highest Accuracy"
   ]
  },
  {
   "cell_type": "code",
   "execution_count": 75,
   "metadata": {},
   "outputs": [
    {
     "name": "stdout",
     "output_type": "stream",
     "text": [
      "The higest accuracy in this experiment:\n",
      "LightGBM -->> 0.8737459905821333\n"
     ]
    },
    {
     "data": {
      "text/plain": [
       "('LightGBM', 0.8737459905821333)"
      ]
     },
     "execution_count": 75,
     "metadata": {},
     "output_type": "execute_result"
    }
   ],
   "source": [
    "mypckg.highest_accuracy(accuracies)"
   ]
  }
 ],
 "metadata": {
  "kernelspec": {
   "display_name": "env-adult-income-prediction",
   "language": "python",
   "name": "python3"
  },
  "language_info": {
   "codemirror_mode": {
    "name": "ipython",
    "version": 3
   },
   "file_extension": ".py",
   "mimetype": "text/x-python",
   "name": "python",
   "nbconvert_exporter": "python",
   "pygments_lexer": "ipython3",
   "version": "3.12.3"
  }
 },
 "nbformat": 4,
 "nbformat_minor": 2
}
